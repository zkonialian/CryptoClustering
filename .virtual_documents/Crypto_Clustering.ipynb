# Import required libraries and dependencies
import pandas as pd
import hvplot.pandas
from sklearn.cluster import KMeans
from sklearn.decomposition import PCA
from sklearn.preprocessing import StandardScaler



# Load the data into a Pandas DataFrame
df_market_data = pd.read_csv(
    "Resources/crypto_market_data.csv",
    index_col="coin_id")

# Display sample data
df_market_data.head(10)


# Generate summary statistics
df_market_data.describe()


# Plot your data to see what's in your DataFrame
df_market_data.hvplot.line(
    width=800,
    height=400,
    rot=90
)








# Use the `StandardScaler()` module from scikit-learn to normalize the data from the CSV file
data_scaled = StandardScaler().fit_transform(df_market_data)



# Create a DataFrame with the scaled data
df_transformed = pd.DataFrame(data_scaled, columns=df_market_data.columns)

# Copy the crypto names from the original DataFrame
df_transformed ['coin_id'] = df_market_data.index

# Set the coin_id column as index
df_transformed = df_transformed.set_index('coin_id')

# Display the scaled DataFrame
df_transformed.head()








# Create a list with the number of k-values from 1 to 11
k = list(range(1, 11))


# Create an empty list to store the inertia values
inertia = []

# Create a for loop to compute the inertia with each possible value of k
# Inside the loop:
# 1. Create a KMeans model using the loop counter for the n_clusters
# 2. Fit the model to the data using `df_market_data_scaled`
# 3. Append the model.inertia_ to the inertia list
for i in k:
    k_model = KMeans(n_clusters=i, random_state=1)
    k_model.fit(df_transformed)
    inertia.append(k_model.inertia_)


# Create a dictionary with the data to plot the Elbow curve
elbow_data = {"k": k, "inertia": inertia}

# Create a DataFrame with the data to plot the Elbow curve
df_elbow = pd.DataFrame(elbow_data)
df_elbow.head()


# Plot a line chart with all the inertia values computed with
# the different values of k to visually identify the optimal value for k.
elbow_curve_1 = df_elbow.hvplot.line(
    x="k", 
    y="inertia", 
    title="Elbow Curve", 
    xticks=k
)
elbow_curve_1











# Initialize the K-Means model using the best value for k
model = KMeans(n_clusters=4, random_state=1)


# Fit the K-Means model using the scaled DataFrame
model.fit(df_transformed)


# Predict the clusters to group the cryptocurrencies using the scaled DataFrame
k_4 = model.predict(df_transformed)

# Print the resulting array of cluster values.
k_4


# Create a copy of the scaled DataFrame
predictions_df = df_transformed.copy()


# Add a new column to the copy of the scaled DataFrame with the predicted clusters
predictions_df["clusters"] = k_4

# Display the copy of the scaled DataFrame
predictions_df.head()


# Create a scatter plot using hvPlot by setting
# `x="price_change_percentage_24h"` and `y="price_change_percentage_7d"`.
# Color the graph points with the labels found using K-Means and
# add the crypto name in the `hover_cols` parameter to identify
# the cryptocurrency represented by each data point.
scatter_chart_1 = predictions_df.hvplot.scatter(
    x="price_change_percentage_24h",
    y="price_change_percentage_7d",
    by="clusters"
)
scatter_chart_1








# Create a PCA model instance and set `n_components=3`.
pca = PCA(n_components=3)


# Use the PCA model with `fit_transform` to reduce the original scaled DataFrame
# down to three principal components.
pca_data = pca.fit_transform(df_transformed)

# View the scaled PCA data
pca_data[:5]



# Retrieve the explained variance to determine how much information
# can be attributed to each principal component.
pca.explained_variance_ratio_ , sum(pca.explained_variance_ratio_)





# Create a new DataFrame with the PCA data.
pca_df = pd.DataFrame(
    pca_data,
    columns=["PCA1", "PCA2", "PCA3"]
)


# Copy the crypto names from the original scaled DataFrame
pca_df['coin_id']=df_transformed.index

# Set the coin_id column as index
pca_df = pca_df.set_index('coin_id')

# Display the scaled PCA DataFrame
pca_df.head()








# Create a list with the number of k-values from 1 to 11
k = list(range(1, 11))


# Create an empty list to store the inertia values
inertia = []

# Create a for loop to compute the inertia with each possible value of k
# Inside the loop:
# 1. Create a KMeans model using the loop counter for the n_clusters
# 2. Fit the model to the data using `df_market_data_pca`
# 3. Append the model.inertia_ to the inertia list
for i in k:
    k_model = KMeans(n_clusters=i, random_state=1)
    k_model.fit(pca_df)
    inertia.append(k_model.inertia_)


# Create a dictionary with the data to plot the Elbow curve
elbow_data = {"k": k, "inertia": inertia}
# Create a DataFrame with the data to plot the Elbow curve
df_elbow = pd.DataFrame(elbow_data)
df_elbow.head()


# Plot a line chart with all the inertia values computed with
# the different values of k to visually identify the optimal value for k.
elbow_curve_2 = df_elbow.hvplot.line(
    x="k", 
    y="inertia", 
    title="Elbow Curve", 
    xticks=k
)
elbow_curve_2








# Initialize the K-Means model using the best value for k
model_pca = KMeans(n_clusters=4, random_state=1)


# Fit the K-Means model using the PCA data
model_pca.fit(pca_df)


# Predict the clusters to group the cryptocurrencies using the scaled PCA DataFrame
k_pca = model_pca.predict(pca_df)

# Print the resulting array of cluster values.
k_pca


# Create a copy of the scaled PCA DataFrame
pca_predictions_df = pca_df.copy()

# Add a new column to the copy of the PCA DataFrame with the predicted clusters
pca_predictions_df["clusters"] = k_pca

# Display the copy of the scaled PCA DataFrame
pca_predictions_df.head()


# Create a scatter plot using hvPlot by setting
# `x="PC1"` and `y="PC2"`.
# Color the graph points with the labels found using K-Means and
# add the crypto name in the `hover_cols` parameter to identify
# the cryptocurrency represented by each data point.

scatter_chart_2 = pca_predictions_df.hvplot.scatter(
    x="PCA1",
    y="PCA2",
    by="clusters"
)
scatter_chart_2 





# Composite plot to contrast the Elbow curves
elbow_curve_1+elbow_curve_2


# Composite plot to contrast the clusters
scatter_chart_1+scatter_chart_2



